{
 "cells": [
  {
   "cell_type": "markdown",
   "id": "6f32cd79-3272-4e0e-8b92-bf1e29ce4638",
   "metadata": {},
   "source": [
    "# Analise de sentimento"
   ]
  },
  {
   "cell_type": "code",
   "execution_count": 1,
   "id": "205a8734-83df-4efa-a2e5-b81b8dfeb3c4",
   "metadata": {},
   "outputs": [],
   "source": [
    "from textblob import TextBlob"
   ]
  },
  {
   "cell_type": "code",
   "execution_count": 2,
   "id": "6c079770-b17c-492c-a7d6-80849ee38a47",
   "metadata": {},
   "outputs": [],
   "source": [
    "frase = \"Python é ótimo para Machine Learning\"\n",
    "tb = TextBlob(frase)\n",
    "tb_en = tb.translate(from_lang='pt_br', to='en')"
   ]
  },
  {
   "cell_type": "code",
   "execution_count": 3,
   "id": "8b2537ea-6fef-40c4-9425-dd4eb13af6df",
   "metadata": {},
   "outputs": [
    {
     "data": {
      "text/plain": [
       "TextBlob(\"Python is great for Machine Learning\")"
      ]
     },
     "execution_count": 3,
     "metadata": {},
     "output_type": "execute_result"
    }
   ],
   "source": [
    "tb_en"
   ]
  },
  {
   "cell_type": "code",
   "execution_count": 4,
   "id": "44dbb4e6-38bd-420c-b1bc-e7f4293a5536",
   "metadata": {},
   "outputs": [
    {
     "data": {
      "text/plain": [
       "0.8"
      ]
     },
     "execution_count": 4,
     "metadata": {},
     "output_type": "execute_result"
    }
   ],
   "source": [
    "tb_en.sentiment.polarity"
   ]
  },
  {
   "cell_type": "markdown",
   "id": "7d032f2f-ec10-4fa4-bde9-5d5e016437fc",
   "metadata": {},
   "source": [
    "# House prices"
   ]
  },
  {
   "cell_type": "code",
   "execution_count": 15,
   "id": "c82dc01f-6f70-4a92-a36a-ca68ef8507f6",
   "metadata": {},
   "outputs": [],
   "source": [
    "import pandas as pd\n",
    "from sklearn.model_selection import train_test_split\n",
    "from sklearn.linear_model import LinearRegression"
   ]
  },
  {
   "cell_type": "code",
   "execution_count": 16,
   "id": "a0f62f38-c2e1-44b0-a406-d0d0cac1997e",
   "metadata": {},
   "outputs": [],
   "source": [
    "df = pd.read_csv('casas.csv')"
   ]
  },
  {
   "cell_type": "code",
   "execution_count": 17,
   "id": "39eb7dcd-fcbe-469b-9526-0dfdb58fed99",
   "metadata": {},
   "outputs": [
    {
     "data": {
      "text/html": [
       "<div>\n",
       "<style scoped>\n",
       "    .dataframe tbody tr th:only-of-type {\n",
       "        vertical-align: middle;\n",
       "    }\n",
       "\n",
       "    .dataframe tbody tr th {\n",
       "        vertical-align: top;\n",
       "    }\n",
       "\n",
       "    .dataframe thead th {\n",
       "        text-align: right;\n",
       "    }\n",
       "</style>\n",
       "<table border=\"1\" class=\"dataframe\">\n",
       "  <thead>\n",
       "    <tr style=\"text-align: right;\">\n",
       "      <th></th>\n",
       "      <th>tamanho</th>\n",
       "      <th>ano</th>\n",
       "      <th>garagem</th>\n",
       "      <th>preco</th>\n",
       "    </tr>\n",
       "  </thead>\n",
       "  <tbody>\n",
       "    <tr>\n",
       "      <th>0</th>\n",
       "      <td>159.0</td>\n",
       "      <td>2003</td>\n",
       "      <td>2</td>\n",
       "      <td>208500</td>\n",
       "    </tr>\n",
       "    <tr>\n",
       "      <th>1</th>\n",
       "      <td>117.0</td>\n",
       "      <td>1976</td>\n",
       "      <td>2</td>\n",
       "      <td>181500</td>\n",
       "    </tr>\n",
       "    <tr>\n",
       "      <th>2</th>\n",
       "      <td>166.0</td>\n",
       "      <td>2001</td>\n",
       "      <td>2</td>\n",
       "      <td>223500</td>\n",
       "    </tr>\n",
       "    <tr>\n",
       "      <th>3</th>\n",
       "      <td>160.0</td>\n",
       "      <td>1915</td>\n",
       "      <td>3</td>\n",
       "      <td>140000</td>\n",
       "    </tr>\n",
       "    <tr>\n",
       "      <th>4</th>\n",
       "      <td>204.0</td>\n",
       "      <td>2000</td>\n",
       "      <td>3</td>\n",
       "      <td>250000</td>\n",
       "    </tr>\n",
       "  </tbody>\n",
       "</table>\n",
       "</div>"
      ],
      "text/plain": [
       "   tamanho   ano  garagem   preco\n",
       "0    159.0  2003        2  208500\n",
       "1    117.0  1976        2  181500\n",
       "2    166.0  2001        2  223500\n",
       "3    160.0  1915        3  140000\n",
       "4    204.0  2000        3  250000"
      ]
     },
     "execution_count": 17,
     "metadata": {},
     "output_type": "execute_result"
    }
   ],
   "source": [
    "df.head()"
   ]
  },
  {
   "cell_type": "code",
   "execution_count": 18,
   "id": "26614b11-dd97-47e9-afaf-4c0f11d71614",
   "metadata": {},
   "outputs": [],
   "source": [
    "X = df.drop('preco', axis=1)\n",
    "y = df['preco']"
   ]
  },
  {
   "cell_type": "code",
   "execution_count": 19,
   "id": "ea971496-721b-4138-83d4-868b277cc71a",
   "metadata": {},
   "outputs": [],
   "source": [
    "X_train, X_test, y_train, y_test = train_test_split(X, y, test_size=0.3, random_state=42)"
   ]
  },
  {
   "cell_type": "code",
   "execution_count": 20,
   "id": "4c47b958-3ee2-4bd0-ad29-443908812fd4",
   "metadata": {},
   "outputs": [],
   "source": [
    "modelo = LinearRegression()"
   ]
  },
  {
   "cell_type": "code",
   "execution_count": 21,
   "id": "d486dd75-a676-4176-9b61-9f2809abe9c9",
   "metadata": {},
   "outputs": [
    {
     "data": {
      "text/plain": [
       "LinearRegression()"
      ]
     },
     "execution_count": 21,
     "metadata": {},
     "output_type": "execute_result"
    }
   ],
   "source": [
    "modelo.fit(X_train, y_train)"
   ]
  },
  {
   "cell_type": "code",
   "execution_count": 22,
   "id": "10ebc2a7-9ad8-4650-b2a8-2fc4609787d4",
   "metadata": {},
   "outputs": [
    {
     "data": {
      "text/plain": [
       "array([  830.00653222,   762.09006126, 25767.20537933])"
      ]
     },
     "execution_count": 22,
     "metadata": {},
     "output_type": "execute_result"
    }
   ],
   "source": [
    "modelo.coef_"
   ]
  },
  {
   "cell_type": "code",
   "execution_count": 23,
   "id": "5f5702f3-73ba-4139-8b29-f340cb062adb",
   "metadata": {},
   "outputs": [
    {
     "data": {
      "text/plain": [
       "-1484640.8721676648"
      ]
     },
     "execution_count": 23,
     "metadata": {},
     "output_type": "execute_result"
    }
   ],
   "source": [
    "modelo.intercept_"
   ]
  },
  {
   "cell_type": "code",
   "execution_count": 24,
   "id": "34c3d04c-de09-4c11-b55f-13ec19303fd2",
   "metadata": {},
   "outputs": [
    {
     "name": "stderr",
     "output_type": "stream",
     "text": [
      "c:\\users\\thayanne\\appdata\\local\\programs\\python\\python37\\lib\\site-packages\\sklearn\\base.py:451: UserWarning: X does not have valid feature names, but LinearRegression was fitted with feature names\n",
      "  \"X does not have valid feature names, but\"\n"
     ]
    },
    {
     "data": {
      "text/plain": [
       "array([191436.53503831])"
      ]
     },
     "execution_count": 24,
     "metadata": {},
     "output_type": "execute_result"
    }
   ],
   "source": [
    "modelo.predict([[120, 2001, 2]])"
   ]
  },
  {
   "cell_type": "code",
   "execution_count": 25,
   "id": "51827c01-3bb6-4965-86ce-e5ae6d39ea44",
   "metadata": {},
   "outputs": [],
   "source": [
    "y = {\n",
    "    \"tamanho\": 120,\n",
    "    \"ano\": 2001,\n",
    "    \"garagem\": 2\n",
    "}"
   ]
  },
  {
   "cell_type": "code",
   "execution_count": 26,
   "id": "31be3dcf-a29c-4723-8cd5-46dae06a4b2e",
   "metadata": {},
   "outputs": [],
   "source": [
    "import pickle"
   ]
  },
  {
   "cell_type": "code",
   "execution_count": 27,
   "id": "e723cea0-2d51-457e-bebc-e1e437397197",
   "metadata": {},
   "outputs": [],
   "source": [
    "pickle.dump(modelo, open('modelo.sav', 'wb'))"
   ]
  },
  {
   "cell_type": "markdown",
   "id": "5cbfb208-e507-48e9-a50b-14da6e716eb2",
   "metadata": {},
   "source": [
    "# Request"
   ]
  },
  {
   "cell_type": "code",
   "execution_count": 29,
   "id": "cc128497-72f9-45f0-bc7e-0114bb872694",
   "metadata": {},
   "outputs": [],
   "source": [
    "import requests"
   ]
  },
  {
   "cell_type": "code",
   "execution_count": 30,
   "id": "40fde7f6-ad1a-4755-af14-bb2842ab874b",
   "metadata": {},
   "outputs": [],
   "source": [
    "url = 'http://127.0.0.1:5000/cotacao/'\n",
    "\n",
    "dados = {\n",
    "    \"tamanho\": 120,\n",
    "    \"ano\": 2001,\n",
    "    \"garagem\": 2\n",
    "}\n"
   ]
  },
  {
   "cell_type": "code",
   "execution_count": 34,
   "id": "9484faf2-bf8d-40b2-984b-cc67b1a792dc",
   "metadata": {},
   "outputs": [],
   "source": [
    "auth = requests.auth.HTTPBasicAuth('thayanne', 'alura')"
   ]
  },
  {
   "cell_type": "code",
   "execution_count": 35,
   "id": "c8a98e1b-6cb7-4b7f-a0fe-90dbde233399",
   "metadata": {},
   "outputs": [],
   "source": [
    "response = requests.post(url, json=dados, auth=auth)"
   ]
  },
  {
   "cell_type": "code",
   "execution_count": null,
   "id": "0264222a-b984-4215-abe6-a159b09ba844",
   "metadata": {},
   "outputs": [],
   "source": []
  }
 ],
 "metadata": {
  "kernelspec": {
   "display_name": "Python 3",
   "language": "python",
   "name": "python3"
  },
  "language_info": {
   "codemirror_mode": {
    "name": "ipython",
    "version": 3
   },
   "file_extension": ".py",
   "mimetype": "text/x-python",
   "name": "python",
   "nbconvert_exporter": "python",
   "pygments_lexer": "ipython3",
   "version": "3.7.9"
  }
 },
 "nbformat": 4,
 "nbformat_minor": 5
}
